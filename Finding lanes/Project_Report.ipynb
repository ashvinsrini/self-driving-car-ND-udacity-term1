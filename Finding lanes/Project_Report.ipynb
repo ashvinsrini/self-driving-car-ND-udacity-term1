{
 "cells": [
  {
   "cell_type": "markdown",
   "metadata": {},
   "source": [
    "# Pipe Line"
   ]
  },
  {
   "cell_type": "markdown",
   "metadata": {},
   "source": [
    "The pipe line consisted of 5 steps. First the RGB image were read. Upon which it was converted to grayscale image via the grayscale function. Then a Gaussian_blur function employed a Gaussian kernel of filter size 5 for smoothing, which was then subjected to a canny edge detector whose output was fed into the regions_of_interest with relevant vertices to extract the required regions of the image and then was subjected to the hough line transform to give the proper output."
   ]
  },
  {
   "cell_type": "markdown",
   "metadata": {},
   "source": [
    "# Potential Short Comings"
   ]
  },
  {
   "cell_type": "markdown",
   "metadata": {},
   "source": [
    "One potential short coming would be that the model is too brittle in that due to the hard coded values under different lightings, it might not work to the desired expectations. And also we see that in the challenge video that is provided there are multiple lines other than lanes that are detected, with these issues in freeways if the lanes aren't perfectly detected it could lead to accidents. And also in the same video we see that when the road is of different color other than gray as observed in 5th second, the lane is not even detected. "
   ]
  },
  {
   "cell_type": "markdown",
   "metadata": {},
   "source": [
    "# Possible solutions"
   ]
  },
  {
   "cell_type": "markdown",
   "metadata": {},
   "source": [
    "One of the possible solutions that could include is to crop the images and remove the scenery and have only the front vision. So image cropping might be a solution. For lines with high curvature, model can be improved with more smotthening to remove multiple lines. "
   ]
  }
 ],
 "metadata": {
  "kernelspec": {
   "display_name": "Python 3",
   "language": "python",
   "name": "python3"
  },
  "language_info": {
   "codemirror_mode": {
    "name": "ipython",
    "version": 3
   },
   "file_extension": ".py",
   "mimetype": "text/x-python",
   "name": "python",
   "nbconvert_exporter": "python",
   "pygments_lexer": "ipython3",
   "version": "3.6.3"
  }
 },
 "nbformat": 4,
 "nbformat_minor": 2
}
